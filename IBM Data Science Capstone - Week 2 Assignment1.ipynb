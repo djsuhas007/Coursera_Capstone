{
 "cells": [
  {
   "cell_type": "markdown",
   "metadata": {},
   "source": [
    "# Business Problem / Introduction"
   ]
  },
  {
   "cell_type": "markdown",
   "metadata": {},
   "source": [
    "Road Accident refers to any accident involving at least one road vehicle, occurring on a road\n",
    "open to public circulation, and in which at least one person is injured or killed. Intentional acts\n",
    "(Murder, suicide) and natural disasters are excluded."
   ]
  },
  {
   "cell_type": "markdown",
   "metadata": {},
   "source": [
    "Road traffic injuries cause considerable economic losses to individuals, their families, and to nations as a whole. These losses arise from the cost of treatment as well as lost productivity for those killed or disabled by their injuries, and for family members who need to take time off work or school to care for the injured. Road traffic crashes cost most countries 3% of their gross domestic product."
   ]
  },
  {
   "cell_type": "markdown",
   "metadata": {},
   "source": [
    "Analysing a significant range of factors, including weather conditions, special events, roadworks, traffic jams among others, an accurate prediction of the severity of the accidents can be performed.\n",
    "\n",
    "These insights, could allow law enforcement bodies to allocate their resources more effectively in advance of potential accidents, preventing when and where a severe accidents can occur as well as saving both, time and money. In addition, this knowledge of a severe accident situation can be warned to drivers so that they would drive more carefully or even change their route if it is possible or to hospital which could have set everything ready for a severe intervention in advance."
   ]
  },
  {
   "cell_type": "markdown",
   "metadata": {},
   "source": [
    "Governments should be highly interested in accurate predictions of the severity of an accident, in order to reduce the time of arrival and thus save a significant amount of people each year. Others interested could be private companies investing in technologies aiming to improve road safeness."
   ]
  },
  {
   "cell_type": "markdown",
   "metadata": {},
   "source": [
    "The aim of this project is to predict the accident severity in Seattle, reasons for the accident, and\n",
    "where it could happen, in order to mitigate and limit future occurrences and ensure the safety of\n",
    "lives and properties.\n"
   ]
  },
  {
   "cell_type": "markdown",
   "metadata": {},
   "source": [
    "Our targeted audiences are Seattle City Council, Government, and decision-makers, the\n",
    "general public, and Seattle Traffic Management Division-SDOT.\n"
   ]
  },
  {
   "cell_type": "markdown",
   "metadata": {},
   "source": [
    "## Key Facts "
   ]
  },
  {
   "cell_type": "markdown",
   "metadata": {},
   "source": [
    "The US Department of Transportation recently reports that 871 Billion is the economic loss of\n",
    "motor vehicle crashes every year in the US. "
   ]
  },
  {
   "cell_type": "markdown",
   "metadata": {},
   "source": [
    "This figure includes 271 Billion in economic loss\n",
    "and 594 Billion in harms from loss of lives and the pain.\n"
   ]
  },
  {
   "cell_type": "markdown",
   "metadata": {},
   "source": [
    "Every year the lives of approximately 1.35 million people are cut short as a result of a road traffic crash. Between 20 and 50 million more people suffer non-fatal injuries, with many incurring a disability as a result of their injury."
   ]
  },
  {
   "cell_type": "markdown",
   "metadata": {},
   "source": [
    "Approximately 1.35 million people die each year as a result of road traffic crashes. The 2030 Agenda for Sustainable Development has set an ambitious target of halving the global number of deaths and injuries from road traffic crashes by 2020. Road traffic crashes cost most countries 3% of their gross domestic product. More than half of all road traffic deaths are among vulnerable road users: pedestrians, cyclists, and motorcyclists. 93% of the world's fatalities on the roads occur in low- and middle-income countries, even though these countries have approximately 60% of the world's vehicles. Road traffic injuries are the leading cause of death for children and young adults aged 5-29 years.Socioeconomic status More than 90% of road traffic deaths occur in low- and middle-income countries. Road traffic injury death rates are highest in the African region. Even within high-income countries, people from lower socioeconomic backgrounds are more likely to be involved in road traffic crashes."
   ]
  },
  {
   "cell_type": "markdown",
   "metadata": {},
   "source": [
    "Seattle is the largest seaport city on the West Coast of the United States. According to the data\n",
    "released in 2019, the metropolitan population stands at 3.98million. In July 2016, it was the\n",
    "fastest major growing city in the USA, with an annual growth rate of 3.1%."
   ]
  },
  {
   "cell_type": "markdown",
   "metadata": {},
   "source": [
    "### General facts & the factors affecting the road accidents - "
   ]
  },
  {
   "cell_type": "markdown",
   "metadata": {},
   "source": [
    "###### 1. Age"
   ]
  },
  {
   "cell_type": "markdown",
   "metadata": {},
   "source": [
    "Road traffic injuries are the leading cause of death for children and young adults aged 5-29 years."
   ]
  },
  {
   "cell_type": "markdown",
   "metadata": {},
   "source": [
    "###### 2. Sex"
   ]
  },
  {
   "cell_type": "markdown",
   "metadata": {},
   "source": [
    "From a young age, males are more likely to be involved in road traffic crashes than females. About three quarters (73%) of all road traffic deaths occur among young males under the age of 25 years who are almost 3 times as likely to be killed in a road traffic crash as young females."
   ]
  },
  {
   "cell_type": "markdown",
   "metadata": {},
   "source": [
    "###### 3. Alcohol consumption"
   ]
  },
  {
   "cell_type": "markdown",
   "metadata": {},
   "source": [
    "Several studies ahows that drinking an alcohol & driving the vehicle leads to the accidents as alcohol directly impacts on the nerve cells of the brain; resulting in uncontrolled human behavior"
   ]
  },
  {
   "cell_type": "markdown",
   "metadata": {},
   "source": [
    "###### 4. Speeding"
   ]
  },
  {
   "cell_type": "markdown",
   "metadata": {},
   "source": [
    "High speed driving is the another cause of road accidents. At times, high speed vehicle is unable to be controlled at the urgent situation, thus, results in a collision."
   ]
  },
  {
   "cell_type": "markdown",
   "metadata": {},
   "source": [
    " The evidence shows the risk of having a crash is increased both for vehicles traveling slower than the average speed, and for those traveling above the average speed."
   ]
  },
  {
   "cell_type": "markdown",
   "metadata": {},
   "source": [
    "\n",
    "The risk of being injured increases exponentially with speeds much faster than the median speed."
   ]
  },
  {
   "cell_type": "markdown",
   "metadata": {},
   "source": [
    "The severity / lethality of a crash depends on the vehicle speed change at impact."
   ]
  },
  {
   "cell_type": "markdown",
   "metadata": {},
   "source": [
    "###### 5. Sleep deprivation"
   ]
  },
  {
   "cell_type": "markdown",
   "metadata": {},
   "source": [
    "Various factors such as fatigue or :sleep deprivation might increase the risk, or numbers of hours driving might increase the risk of an accident."
   ]
  },
  {
   "cell_type": "markdown",
   "metadata": {},
   "source": [
    "###### 6. Road Design"
   ]
  },
  {
   "cell_type": "markdown",
   "metadata": {},
   "source": [
    "The road or environmental factor was either noted as making a significant contribution to the circumstances of the crash, or did not allow room to recover. In these circumstances, it is frequently the driver who is blamed rather than the road; those reporting the collisions have a tendency to overlook the human factors involved, such as the subtleties of design and maintenance that a driver could fail to observe or inadequately compensate for."
   ]
  },
  {
   "cell_type": "markdown",
   "metadata": {},
   "source": [
    "In the UK, research has shown that investment in a safe road infrastructure program could yield a ​1⁄3 reduction in road deaths, saving as much as £6 billion per year. A consortium of 13 major road safety stakeholders have formed the Campaign for Safe Road Design, which is calling on the UK Government to make safe road design a national transport priority."
   ]
  },
  {
   "cell_type": "markdown",
   "metadata": {},
   "source": [
    "###### 7. Seat Belts"
   ]
  },
  {
   "cell_type": "markdown",
   "metadata": {},
   "source": [
    "Research has shown that, across all collision types, it is less likely that seat belts were worn in collisions involving death or serious injury, rather than light injury; wearing a seat belt reduces the risk of death by about 45 percent."
   ]
  },
  {
   "cell_type": "markdown",
   "metadata": {},
   "source": [
    "Four driver behaviors (speed, stopping at intersections when the control light was amber, turning left in front of oncoming traffic, and gaps in following distance) were measured at various sites before and after the law. Changes in these behaviors in Newfoundland were similar to those in Nova Scotia, except that drivers in Newfoundland drove slower on expressways after the law, contrary to the risk compensation theory."
   ]
  },
  {
   "cell_type": "markdown",
   "metadata": {},
   "source": [
    "###### 8. Maintenance"
   ]
  },
  {
   "cell_type": "markdown",
   "metadata": {},
   "source": [
    "A well-designed and well-maintained vehicle, with good brakes, tires and well-adjusted suspension will be more controllable in an emergency and thus be better equipped to avoid collisions. Some mandatory vehicle inspection schemes include tests for some aspects of roadworthiness."
   ]
  },
  {
   "cell_type": "markdown",
   "metadata": {},
   "source": [
    "Common features designed to improve safety include thicker pillars, safety glass, interiors with no sharp edges, stronger bodies, other active or passive safety features, and smooth exteriors to reduce the consequences of an impact with pedestrians."
   ]
  },
  {
   "cell_type": "markdown",
   "metadata": {},
   "source": [
    "In the early 1970s, British Leyland started an intensive programme of vehicle safety research, producing a number of prototype experimental safety vehicles demonstrating various innovations for occupant and pedestrian protection such as air bags, anti-lock brakes, impact-absorbing side-panels, front and rear head restraints, run-flat tires, smooth and deformable front-ends, impact-absorbing bumpers, and retractable headlamps. Design has also been influenced by government legislation, such as the Euro NCAP impact test."
   ]
  },
  {
   "cell_type": "markdown",
   "metadata": {},
   "source": [
    "###### 9. Drug use"
   ]
  },
  {
   "cell_type": "markdown",
   "metadata": {},
   "source": [
    "Including some prescription drugs, over the counter drugs (notably antihistamines, opioids and muscarinic antagonists), and illegal drugs."
   ]
  },
  {
   "cell_type": "markdown",
   "metadata": {},
   "source": [
    "###### 10. Use of mobile phones while driving"
   ]
  },
  {
   "cell_type": "markdown",
   "metadata": {},
   "source": [
    "Drivers using mobile phones are approximately 4 times more likely to be involved in a crash than drivers not using a mobile phone. Using a phone while driving slows reaction times (notably braking reaction time, but also reaction to traffic signals), and makes it difficult to keep in the correct lane, and to keep the correct following distances. Hands-free phones are not much safer than hand-held phone sets, and texting considerably increases the risk of a crash."
   ]
  },
  {
   "cell_type": "markdown",
   "metadata": {},
   "source": [
    "###### 11. Traffic Law enforcement Failure"
   ]
  },
  {
   "cell_type": "markdown",
   "metadata": {},
   "source": [
    "Every country in the world have their own laws, rules & regulations on transportation; such as road, coastal, air etc. It is necessary to all the citizens that all the laws should be strictly followed in order to avoid any accident. Failure of traffic law enforcement will result in continual increase of road accidents rather than the decrease."
   ]
  },
  {
   "cell_type": "markdown",
   "metadata": {},
   "source": [
    "###### 12. Immediate medical treatment failure to humans suffering from accident"
   ]
  },
  {
   "cell_type": "markdown",
   "metadata": {},
   "source": [
    "It is observerd that, after the accident, it takes a lot of important time to give the emergency medical treatment to the humans surviving from the road accident. Some seriously injured people lose their life due to failure of ambulance, emergency treatment to the people."
   ]
  },
  {
   "cell_type": "code",
   "execution_count": null,
   "metadata": {},
   "outputs": [],
   "source": []
  }
 ],
 "metadata": {
  "kernelspec": {
   "display_name": "Python 3",
   "language": "python",
   "name": "python3"
  },
  "language_info": {
   "codemirror_mode": {
    "name": "ipython",
    "version": 3
   },
   "file_extension": ".py",
   "mimetype": "text/x-python",
   "name": "python",
   "nbconvert_exporter": "python",
   "pygments_lexer": "ipython3",
   "version": "3.6.4"
  }
 },
 "nbformat": 4,
 "nbformat_minor": 2
}
