{
 "cells": [
  {
   "cell_type": "markdown",
   "metadata": {},
   "source": [
    "# Data"
   ]
  },
  {
   "cell_type": "markdown",
   "metadata": {},
   "source": [
    "The goal of this section is to indicate the sources where the data has been collected from as well as describe the meaning of each feature in the acquired dataset."
   ]
  },
  {
   "cell_type": "markdown",
   "metadata": {},
   "source": [
    "The source of the data is Seattle Traffic Management Division-SDOT- ( A US state\n",
    "Government Agency), as provided through a link on Coursera in CSV format. This particular\n",
    "dataset starts from 2004 and is updated weekly till this present time."
   ]
  },
  {
   "cell_type": "markdown",
   "metadata": {},
   "source": [
    "https://s3.us.cloud-object-storage.appdomain.cloud/cf-courses-data/CognitiveClass/DP0701EN/version-2/Data-Collisions.csv "
   ]
  },
  {
   "cell_type": "markdown",
   "metadata": {},
   "source": [
    "The above link is used to download the dataset used in this project. It contains the data with the road collisions."
   ]
  },
  {
   "cell_type": "markdown",
   "metadata": {},
   "source": [
    "This data was provided by the Seattle Police\n",
    "Department and recorded by the Traffic Records Department. The\n",
    "dataset consists of 37 independent fields and 194673 records, which\n",
    "includes both numerical and categorical data. The dependent field\n",
    "or label for the data set is SEVERITY CODE, which describes the\n",
    "fatality of an accident."
   ]
  },
  {
   "cell_type": "markdown",
   "metadata": {},
   "source": [
    "# Data Description"
   ]
  },
  {
   "cell_type": "markdown",
   "metadata": {},
   "source": [
    "There are 38 features (attributes) in the dataset and 194673 records (rows) of car accidents. The first few columns provide several identification keys unique for each incident, this information is not usable,hence, it will be ignored in the analysis. "
   ]
  },
  {
   "cell_type": "markdown",
   "metadata": {},
   "source": [
    "The location of the accident is described by three columns, two of which refer to the 'latitude' and 'longitude' values while the third one contains the address. "
   ]
  },
  {
   "cell_type": "markdown",
   "metadata": {},
   "source": [
    "The information contained in the data includes - Speed, Collision Type, Weather situation,\n",
    "Severity Code, Location, Address Type, Road Condition, Status, Vehicle etc.\n"
   ]
  },
  {
   "cell_type": "markdown",
   "metadata": {},
   "source": [
    "The date and time when the incident occurred is given by two columns, one containing only the date while the other containing the date and time of the collision. "
   ]
  },
  {
   "cell_type": "markdown",
   "metadata": {},
   "source": [
    "The information ia also available in the dataset on whether the accident occurred at an intersection, a block or an alley, the type of the junction and the unique keys of each intersection, crosswalk road segment where the accident occurred. There are several features showing variables such as the weather, the road condition, the lighting condition, whether the driver was inattentive, speeding was under the influence of alcohol or the pedestrian right of way was not granted. "
   ]
  },
  {
   "cell_type": "markdown",
   "metadata": {},
   "source": [
    "It contains information about number of pedestrians, cyclists and vehicles involved in the accident and whether there was a collision with parked cars. "
   ]
  },
  {
   "cell_type": "markdown",
   "metadata": {},
   "source": [
    "State Collision Code which uniquely describes each type of collision using a numeric value is present in a dataset."
   ]
  },
  {
   "cell_type": "markdown",
   "metadata": {},
   "source": [
    "Severity of each accident is given as a binary variable with the value '1' if the accident was less serious and '2' if the accident was severe. \"Severity Code\" column will be used from this dataset as a dependent variable / target variable that will be predicted in this project."
   ]
  },
  {
   "cell_type": "markdown",
   "metadata": {},
   "source": [
    "# Feature Selection "
   ]
  },
  {
   "cell_type": "markdown",
   "metadata": {},
   "source": [
    "The goal of this study is the development of a model that predicts the severity of an accident using realtime data, this puts some limits on the type of features that can be used since not all of the dataset’s columns contain information that can be obtained in real-time."
   ]
  },
  {
   "cell_type": "markdown",
   "metadata": {},
   "source": [
    "The dependent variable or target variable for the data set is \"SEVERITY CODE\", which describes the fatality of an accident."
   ]
  },
  {
   "cell_type": "markdown",
   "metadata": {},
   "source": [
    "Other attributes that have been taken into consideration for the analysis are as follows - "
   ]
  },
  {
   "cell_type": "markdown",
   "metadata": {},
   "source": [
    "1. LOCATION - Description of the general location of the collision, \n",
    "2. ADDRTYPE - Collision address types are 'Alley', 'Block' or 'Intersection'\n",
    "2. ROADCOND - The condition of the road during the collision (for example, 'Wet', 'Dry', 'Snow/Slush', 'Ice', 'Sand/Mud/Dirt', 'Standing Water', 'Oil',etc.),\n",
    "3. WEATHER - A description of the weather conditions during the time of the collision, (for example, 'Overcast', 'Raining', 'Clear', 'Snowing', 'Fog/Smog/Smoke', etc.),\n",
    "4. JUNCTIONTYPE - Category of junction at which collision took place (for example, 'At Intersection (intersection related)', 'Mid-Block (not related to intersection)',etc.),\n",
    "5. PERSONCOUNT - The total number of people involved in the collision (reflected as an integer),\n",
    "6. VEHCOUNT - The number of vehicles involved in the collision (reflected as an integer),\n",
    "7. LIGHTCOND - The light conditions during the collision (for example, 'Daylight', 'Dark - Street Lights On', 'Dark - No Street Lights', 'Dusk', 'Dawn', etc.)\n",
    "8. SPEEDING - Whether or not speeding was a factor in the collision."
   ]
  },
  {
   "cell_type": "markdown",
   "metadata": {},
   "source": [
    "# Data Preparation "
   ]
  },
  {
   "cell_type": "markdown",
   "metadata": {},
   "source": [
    "The process of data preparation includes removing or filling missing values, converting features into certain formats and making sure the data is balanced. This step is required in most algorithms in order for them to be implemented correctly and can significantly boost their accuracy."
   ]
  },
  {
   "cell_type": "markdown",
   "metadata": {},
   "source": [
    "Data with status-unmatched is removed from the dataset in order to avoid unnecessary data."
   ]
  },
  {
   "cell_type": "markdown",
   "metadata": {},
   "source": [
    "Categorical features are converted to numerical values."
   ]
  },
  {
   "cell_type": "markdown",
   "metadata": {},
   "source": [
    "Data with missing feature values are removed."
   ]
  },
  {
   "cell_type": "markdown",
   "metadata": {},
   "source": [
    "Data imbalance is removed from the dataset in order to reduce the error in the model & increase the accuracy for the correct predictions"
   ]
  },
  {
   "cell_type": "markdown",
   "metadata": {},
   "source": [
    "The dataset is slightly imbalanced, with 136,485 data points with Severity Code 1 and only 58,188 data points with Severity Code 2. Therefore, methodology of upsampling is used to remove data imbalance to end up with an equal number of data points with Severity Codes 1 and 2 (i.e 136,485 data points each)."
   ]
  },
  {
   "cell_type": "markdown",
   "metadata": {},
   "source": [
    "Python libraries such as 'Pandas', 'Numpy' are used for the data preparation."
   ]
  }
 ],
 "metadata": {
  "kernelspec": {
   "display_name": "Python 3",
   "language": "python",
   "name": "python3"
  },
  "language_info": {
   "codemirror_mode": {
    "name": "ipython",
    "version": 3
   },
   "file_extension": ".py",
   "mimetype": "text/x-python",
   "name": "python",
   "nbconvert_exporter": "python",
   "pygments_lexer": "ipython3",
   "version": "3.6.4"
  }
 },
 "nbformat": 4,
 "nbformat_minor": 2
}
